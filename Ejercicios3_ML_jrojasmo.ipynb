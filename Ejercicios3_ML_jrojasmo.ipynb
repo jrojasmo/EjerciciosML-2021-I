{
  "nbformat": 4,
  "nbformat_minor": 0,
  "metadata": {
    "colab": {
      "name": "Ejercicios3-ML-jrojasmo.ipynb",
      "provenance": [],
      "collapsed_sections": [],
      "authorship_tag": "ABX9TyNDqoAfZKXuHvtJqR3G9TNt",
      "include_colab_link": true
    },
    "kernelspec": {
      "display_name": "Python 3",
      "name": "python3"
    },
    "language_info": {
      "name": "python"
    }
  },
  "cells": [
    {
      "cell_type": "markdown",
      "metadata": {
        "id": "view-in-github",
        "colab_type": "text"
      },
      "source": [
        "<a href=\"https://colab.research.google.com/github/jrojasmo/EjerciciosML-2021-I/blob/main/Ejercicios3_ML_jrojasmo.ipynb\" target=\"_parent\"><img src=\"https://colab.research.google.com/assets/colab-badge.svg\" alt=\"Open In Colab\"/></a>"
      ]
    },
    {
      "cell_type": "markdown",
      "metadata": {
        "id": "XI3HG2FVzX8U"
      },
      "source": [
        "Introducción al Aprendizaje de Máquina 2021-I \\\\\n",
        "*Jesús Andrés Rojas Montenegro*"
      ]
    },
    {
      "cell_type": "markdown",
      "metadata": {
        "id": "xY3aLHT6yHaz"
      },
      "source": [
        "#**1. Ejercicio 2.2**\n",
        "**a.** Verificar la cota del Teorema 2.4 en los tres casos del del Ejemplo 2.2:\n",
        ">Teorema 2.4: Si $m_{\\mathcal{H}}(k)<2^k$ para algún valor de $k$, entonces\n",
        "$$m_{\\mathcal{H}}(k)\\leq \\sum_{i=0}^{k-1}\\binom{N}{i}$$\n",
        "para todo $N$.\n",
        "\n",
        "<blockquote> \n",
        "<b>(i)</b>  Rayos positivos: $\\mathcal{H}$ consiste en todas las hipótesis en una dimensión de la forma $h(x)=\\textsf{sign}(x-a)$.\n",
        "\n",
        "<b>Respuesta.</b> Para este caso la función de crecimiento es $N+1$, luego el *break point* ($k$) es 2 porque $k+1=3<4=2^2$. Entonces, \n",
        "$$\\sum_{i=0}^{k-1}\\binom{N}{i}=1+N$$\n",
        "haciendo claramente que se cumpla la desigualdad para cualquier N.\n",
        "</blockquote>\n",
        "\n",
        "<blockquote> \n",
        "<b>(ii)</b>  Intervalos positivos: $\\mathcal{H}$ consiste en todas las hipótesis en una dimensión que son positivos dentro de algún intervalo y negativos fuera de este.\n",
        "\n",
        "<b>Respuesta.</b> En los intervalos positivos la función de crecimiento es $\\frac{1}{2}N^2+\\frac{1}{2}N+1$. Luego, es fácil ver que el primer valor que hace que $m_{\\mathcal{H}}(k)<2^k$ es $k=3$ porque $m_{\\mathcal{H}}(3)=7<2^3$. Así:\n",
        "$$\n",
        "\\begin{align*}\n",
        "\\sum_{i=0}^{k-1}\\binom{N}{i}&=\\binom{N}{0}+\\binom{N}{1}+\\binom{N}{2}\\\\\n",
        "                            &=1+N+\\frac{N(N-1)}{2}\\\\\n",
        "                            &=1+\\frac{N(N+1)}{2}\\\\\n",
        "                            &=1+\\frac{1}{2}N^2+\\frac{1}{2}N,\n",
        "\\end{align*}\n",
        "$$\n",
        "que es lo mismo que $m_{\\mathcal{H}}(N)$ para este caso, por lo que es claro que la desigualdad se cumple para cualquier N.\n",
        "</blockquote>\n",
        "\n",
        "<blockquote> \n",
        "<b>(iii)</b>  Conjuntos convexos: $\\mathcal{H}$ consiste en todas las hipótesis de dos dimensiones que son positivos dentro de algún conjunto convexo y negativo fuera.\n",
        "\n",
        "<b>Respuesta.</b> Como para los conjuntos convexos $m_{\\mathcal{H}}(k)=2^N$, no existe tal $k$ que haga que $m_{\\mathcal{H}}(k)<2^k$, por lo que la cota no aplica para este caso.\n",
        "</blockquote>\n",
        "\n",
        "**b.** ¿Existe un conjunto de hipótesis para el cual $m_{\\mathcal{H}}(N)=N+2^{\\lfloor N/2 \\rfloor}$?\n",
        "\n",
        "**Respuesta.** Si suponemos que existe, como para $k=3$ hay un *break point* porque $m_{\\mathcal{H}}(3)=5<2^3$, entonces se debe cumplir el Teorema 2.4. Sin embargo, vemos que para $N=14$ no se cumple, $m_{\\mathcal{H}}(14)=142$ y \n",
        "$$\\sum_{i=0}^{2}\\binom{14}{i}=1+\\frac{1}{2}14^2+\\frac{1}{2}14=106.$$\n",
        "Por lo tanto, tal función de crecimiento no puede existir."
      ]
    },
    {
      "cell_type": "markdown",
      "metadata": {
        "id": "CnZSUAP5ySEN"
      },
      "source": [
        "#**2. Ejercicio 2.5**\n",
        "Supongamos que tenemos un modelo simple de aprendizaje cuya función de crecimiento es $m_{\\mathcal{H}}(N)=N+1$, entonces $d_{VC}=1$. Usar la *VC bound* (2.12) para estimar la probabilidad de que $E_{out}$ esté a 0.1 de $E_{in}$ dados 100 ejemplos de entrenamiento. \n",
        " \n",
        "**Respuesta.** La *VC bound* es, para cualquier tolerancia $\\delta>0$,\n",
        "$$E_{out}(g)\\leq E_{in}(g)+\\sqrt{\\frac{8}{N}\\ln{\\frac{4m_{\\mathcal{H}}(2N)}{\\delta}}}$$\n",
        "con probabilidad $>1-\\delta$.\n",
        " \n",
        "Luego, necesitamos hacer que\n",
        "$$\\sqrt{\\frac{8}{N}\\ln{\\frac{4m_{\\mathcal{H}}(2N)}{\\delta}}}=0.1,$$\n",
        "y para eso basta con despejar $\\delta$, \n",
        "$$\\delta=4m_{\\mathcal{H}}(2N)\\exp{\\left(-0.1^2\\frac{N}{8}\\right)}$$\n",
        "ya que así queda en términos de valores conocidos siendo $m_{\\mathcal{H}}(2N)=2N+1.$"
      ]
    },
    {
      "cell_type": "code",
      "metadata": {
        "colab": {
          "base_uri": "https://localhost:8080/"
        },
        "id": "08FPQbNTa4Qy",
        "outputId": "b4c27360-dc68-4a6d-b4ce-95a6e6181adf"
      },
      "source": [
        "import numpy as np\n",
        "N=100\n",
        "tol=0.1\n",
        "d=4*(2*N+1)*np.exp(-(tol)**2*N/8)\n",
        "print('Estimado de la probabilidad:', 1-d)"
      ],
      "execution_count": 1,
      "outputs": [
        {
          "output_type": "stream",
          "text": [
            "Estimado de la probabilidad: -708.5275096780147\n"
          ],
          "name": "stdout"
        }
      ]
    },
    {
      "cell_type": "markdown",
      "metadata": {
        "id": "9oYjiiw2iX2S"
      },
      "source": [
        "Finalmente, el estimado de la probabilidad es menor que cero, lo que nos dice que es altamente probable que no se cumpla lo que queremos (básicamente no tenemos garantizado nada) y que por lo tanto no se pueda aprender tal y como se está configurando. "
      ]
    },
    {
      "cell_type": "markdown",
      "metadata": {
        "id": "rbkdEttpUtFq"
      },
      "source": [
        "#**3. Ejercicio 2.6**\n",
        "Un *data set* tiene 600 ejemplos. Para probar apropiadamente el rendimiento de la hipótesis final, se aparta un subconjunto seleccionado al azar de 200 ejemplos que no fueron usados en la fase de entrenamiento; esto forma un conjunto de entrenamiento. Tu usas un modelo de aprendizaje con 1000 hipótesis y selecciona  la hipótesis final $g$ basada en 400 ejemplos de entrenamiento. Deseamos estimar $E_{out}(g)$. Tenemos acceso a dos estimados: $E_{in}(g)$, el error *in-sample* de 400 ejemplos de entrenamiento; y, $E_{test}(g)$, el error en los 200 ejemplos de entrenamiento que fueron apartados.\n",
        " \n",
        "**a.** Usando un 5% de tolerancia de error ($\\delta=0.05$) ¿qué estimado tiene la mayor 'barra de error'?\n",
        " \n",
        "**Respuesta.** Al tener un número finito de hipótesis podemos usar la desigualdad *Hoeffding* sin problema. De la anterior, se deriva la siguiente cota de generalización: Tomando una tolerancia $\\delta$, se puede asegurar con probabilidad como mínimo $1-\\delta$ que\n",
        "$$E_{out}(g)\\leq E_{in}(g) + \\sqrt{\\frac{1}{2N}\\ln{\\frac{2M}{\\delta}}}.$$\n",
        " \n",
        "La explicación de lo anterior está en el libro y es similar a la forma en que se dedujo la *VC bound*.\n",
        " \n",
        "Así que, como en el libro se refieren a \n",
        "$$\\sqrt{\\frac{1}{2N}\\ln{\\frac{2M}{\\delta}}}$$\n",
        "como la 'barra de error' o la cota de error para el caso de *Hoeffding*, para cada conjunto de datos hay que ver el número de hipótesis que se involucran. \n",
        " \n",
        "Entonces, para el conjunto de entrenamiento es claro que en el peor caso se usan todas las 1000 hipótesis, por el contrario en el conjunto aislado de prueba sólo se usará una, la que resultó del proceso de aprendizaje. Luego, para $E_{in}$, $N=400$ y $M=1000$, y para $E_{test}$ $N=200$ y $M=1$. \n",
        "\n",
        "\n",
        "\n",
        "\n"
      ]
    },
    {
      "cell_type": "code",
      "metadata": {
        "colab": {
          "base_uri": "https://localhost:8080/"
        },
        "id": "IduZLj0otFXn",
        "outputId": "4fe3cc7b-d65f-475b-cb59-512f28f4dd65"
      },
      "source": [
        "def errBar(N, M, d):\n",
        "  return np.sqrt(1/(2*N)*np.log(2*M/d))\n",
        "\n",
        "print('Barra de error en conjunto E_{test}', errBar(200, 1, 0.05))\n",
        "print('Barra de error en conjunto E_{in}', errBar(400, 1000, 0.05))"
      ],
      "execution_count": 2,
      "outputs": [
        {
          "output_type": "stream",
          "text": [
            "Barra de error en conjunto E_{test} 0.09603227913199208\n",
            "Barra de error en conjunto E_{in} 0.11509037065006825\n"
          ],
          "name": "stdout"
        }
      ]
    },
    {
      "cell_type": "markdown",
      "metadata": {
        "id": "_XI_CSxXuiQp"
      },
      "source": [
        "Finalmente, el conjunto con mayor barra de error es el del conjunto de datos de muestra, $E_{in}$."
      ]
    },
    {
      "cell_type": "markdown",
      "metadata": {
        "id": "8FRjSPQmtGGa"
      },
      "source": [
        "**b.** ¿Hay alguna razón por la que no debería reservarse más ejemplos de prueba? \n",
        "\n",
        "Es mejor tratar de mantener el mayor número de datos de muestra posibles para mejorar e incluso (en algunos casos) posibilitar el aprendizaje. De hecho, pienso que se debe priorizar $E_{in}$ para que tenga suficientes casos de prueba y luego (si sobran) reservar para $E_{test}$, generando así una buena hipótesis. "
      ]
    },
    {
      "cell_type": "markdown",
      "metadata": {
        "id": "OekemkAIUzjj"
      },
      "source": [
        "#**4. Problema 2.1**\n",
        "En la Ecuación (2.1), sea $\\delta=0.03$ y\n",
        "$$\\epsilon (M,N,\\delta)=\\sqrt{\\frac{1}{2N}\\ln{\\frac{2M}{\\delta}}}.$$\n",
        "<blockquote> \n",
        "<b>(a)</b>  Para $M=1$, ¿Cuántos ejemplos necesitamos para hacer $\\epsilon \\leq 0.05$?\n",
        " \n",
        "<b>Respuesta.</b> Para hacer esto, supongamos el caso en el que dado el error máximo $\\epsilon'$, tenemos que\n",
        "$$\\sqrt{\\frac{1}{2N}\\ln{\\frac{2M}{\\delta}}}\\leq \\epsilon'.$$\n",
        "Luego, basta con despejar $N$ en la desigualdad, \n",
        "$$N\\geq\\frac{\\ln{\\frac{2M}{\\delta}}}{2\\epsilon'^2},$$\n",
        "para saber cuántos ejemplos se necesitan.\n",
        "Así, fácilmente vemos que son necesarios 840 ejemplos (exactamente 839.94101) para lograr que $\\epsilon \\leq 0.05$. \n",
        "</blockquote>\n",
        " \n",
        "<blockquote> \n",
        "<b>(b)</b>  Para $M=100$, ¿Cuántos ejemplos necesitamos para hacer $\\epsilon \\leq 0.05$?\n",
        " \n",
        "<b>Respuesta.</b> Siguiendo el argumento del anterior punto, concluimos que se necesitan 1761 ejemplos (exactamente 1760.97505).\n",
        "</blockquote>\n",
        " \n",
        "<blockquote> \n",
        "<b>(b)</b>  Para $M=10000$, ¿Cuántos ejemplos necesitamos para hacer $\\epsilon \\leq 0.05$?\n",
        " \n",
        "<b>Respuesta.</b> Haciendo lo que se hizo en el primer punto, llegamos a que son necesarios 2683 ejemplos (exactamente 2682.00908). \n",
        "</blockquote>\n"
      ]
    },
    {
      "cell_type": "code",
      "metadata": {
        "colab": {
          "base_uri": "https://localhost:8080/"
        },
        "id": "CbQlHMU30qsY",
        "outputId": "539d316f-8e7f-4356-cba4-fd55a7fb274a"
      },
      "source": [
        "def minNmaxEps(M,d,e):\n",
        "  return np.log(2*M/d)/(2*e**2)\n",
        "\n",
        "print('Para M=1', minNmaxEps(1, 0.03, 0.05))\n",
        "print('Para M=100', minNmaxEps(100, 0.03, 0.05))\n",
        "print('Para M=10000', minNmaxEps(10000, 0.03, 0.05))"
      ],
      "execution_count": 3,
      "outputs": [
        {
          "output_type": "stream",
          "text": [
            "Para M=1 839.9410155759853\n",
            "Para M=100 1760.9750527736032\n",
            "Para M=10000 2682.0090899712213\n"
          ],
          "name": "stdout"
        }
      ]
    },
    {
      "cell_type": "markdown",
      "metadata": {
        "id": "ZLOnKr7s8qBY"
      },
      "source": [
        "#**5. Problema 2.12**\n",
        "Para un $\\mathcal{H}$ con $d_{VC}=10$, ¿qué tamaño de muestra se necesita para tener un 95% de seguridad de que el error de generalización sea como máximo 0.05?\n",
        " \n",
        "**Solución.**\n",
        "Siguiendo el Ejemplo 2.6 del libro, de la *VC bound* podemos extraer la siguiente desigualdad\n",
        "$$N\\geq\\frac{8}{\\epsilon^2}\\ln{\\left(\\frac{4m_{\\mathcal{H}}(2N)}{\\delta}\\right)}$$\n",
        "y usando el hecho de que $m_{\\mathcal{H}}(2N)$ es un polinomio del  grado dimensión VC nos queda que:\n",
        "$$N\\geq\\frac{8}{\\epsilon^2}\\ln{\\left(\\frac{4((2N)^{d_{VC}}+1)}{\\delta}\\right)}.$$\n",
        "Ahora bien, la anterior desigualdad es implícita con respecto a $N$, por lo que usando métodos iterativos podemos encontrar una solución. Lo anterior se hace suponiendo un $N$ inicial de 1000, con el que se obtiene un valor para $N$ en el lado derecho de la desigualdad, este lo tomamos como nuevo $N$ y así sucesivamente hasta encontrar que se cumple la desigualdad.\n"
      ]
    },
    {
      "cell_type": "code",
      "metadata": {
        "colab": {
          "base_uri": "https://localhost:8080/"
        },
        "id": "Hz_mxHlMnZQW",
        "outputId": "4fa90581-a9d6-49d0-ab61-2e83790b634b"
      },
      "source": [
        "N=1000\n",
        "dVC=10\n",
        "eps=0.05  #epsilon\n",
        "segu=0.95 #mínima probabilidad de que se cumpla la cota\n",
        "d=1-segu #tolerancia\n",
        "#Función que calcula el lado derecho de la desigualdad\n",
        "def minNim_VC(N, eps, dVC, d):\n",
        "  return np.ceil((8/eps**2)*np.log((4*((2*N)**dVC+1))/d)) #Techo del estimado para cumplir con la desigualdad\n",
        "#Iteración\n",
        "while N<minNim_VC(N, eps, dVC, d):\n",
        "  print(N)\n",
        "  N=minNim_VC(N, eps, dVC, d)\n",
        "\n",
        "print('Número de ejemplos necesarios', N)\n",
        "N, (8/eps**2)*np.log((4*((2*N)**dVC+1))/d)"
      ],
      "execution_count": 4,
      "outputs": [
        {
          "output_type": "stream",
          "text": [
            "1000\n",
            "257252.0\n",
            "434854.0\n",
            "451652.0\n",
            "452865.0\n",
            "452951.0\n",
            "Número de ejemplos necesarios 452957.0\n"
          ],
          "name": "stdout"
        },
        {
          "output_type": "execute_result",
          "data": {
            "text/plain": [
              "(452957.0, 452956.87427999196)"
            ]
          },
          "metadata": {
            "tags": []
          },
          "execution_count": 4
        }
      ]
    },
    {
      "cell_type": "markdown",
      "metadata": {
        "id": "38UDYU9csUfi"
      },
      "source": [
        "Finalmente, llegamos a un estimado de que $N\\approx452957$."
      ]
    },
    {
      "cell_type": "markdown",
      "metadata": {
        "id": "BQWP8Mlz8yEC"
      },
      "source": [
        "#**6. Problema 2.16**\n",
        "En este problema, consideraremos $\\mathcal{X}=\\mathbb{R}$. Esto es, **x**=$x$ es una variable de una dimensión. Para un conjunto de hipótesis\n",
        "$$\\mathcal{H}=\\left\\{ h_c | h_c(x)=\\textsf{sign}\\left(\\sum_{i=0}^D c_ix^i\\right) \\right\\}$$\n",
        "probar que la dimensión VC de $\\mathcal{H}$ es exactamente $(D+1)$ mostrando que\n",
        " \n",
        "**a.** Hay $(D+1)$ puntos que son divididos por $\\mathcal{H}$\n",
        " \n",
        "**Respuesta.** En primer lugar, es claro que las funciones de $\\mathcal{H}$ son los signos de los polinomios de grado menor o igual a $D$. Entonces, dada una dicotomía de $D+1$ puntos, $y=(y_1,y_2,\\cdots, y_{D+1})$ y los puntos en $\\mathbb{R}$, $x=(x_1,x_2,\\cdots, x_{D+1})$ es posible encontrar un polinomio $h$ tal que\n",
        "$$\\textsf{sign}(h(x_i))=y_i$$\n",
        "para $1\\leq i \\leq D+1$, agrupando las parejas $(x_i, y_i)$ y ordenándose de menor a mayor según la primera coordenada, teniendo así una lista de $D+1$ parejas ordenadas. Luego, sea $K=\\{k_i\\}_{i\\geq0}$ el conjunto de índices dónde hay un cambio en la segunda coordenada (de +1 a -1 o  de -1 a +1, máximo hay $D$ cambios) que hay en la lista y considere el polinomio\n",
        "$$h(x)=(-1)^{|K|}\\alpha\\prod_{j \\in K}(x-p_j)$$\n",
        "donde $\\alpha$ es la segunda coordenada de la primera pareja de la lista y $p_j$ es el promedio entre $x_j$ y la primera coordenada de la siguiente pareja de la lista. Por como fue construido $h$, podemos ver que va a dividir como se quiere a los $D+1$ puntos porque el término $(-1)^{|K|}\\alpha$ nos asegura que empezamos con el signo correcto (depende del grado) y vamos cambiando el signo del polinomio obligándolo a que pase por el eje $y$ (agregando una raíz real) entre los puntos según se requiera. Finalmente, basta con desarrollar los productos de $h$ para obtener los $c_i$.\n",
        " \n",
        "Por ejemplo, para $D=3$, sean $x=(5,9,-3,-7)$ y $y=(+1,-1,-1,+1)$, tenemos que la lista es \n",
        "$$[(-7,+1),(-3,-1),(5,+1),(9,-1)].$$\n",
        "Como tenemos 3 cambios en la segunda coordenada tenemos que:\n",
        "$$h(x)=(-1)^3(1)(x+5)(x-1)(x-7)=x^3-3x^2-33x+35,$$\n",
        "y finalmente $h(-7)=224$, $h(-3)=-80$, $h(5)=80$ y $h(9)=-224$.\n",
        "\n",
        "![grafShatter.png](data:image/png;base64,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)\n",
        "\n",
        "\n",
        "**b.** No hay $(D+2)$ puntos que son divididos por $\\mathcal{H}$.\n",
        " \n",
        "**Respuesta.** Siguiendo lo que se hizo en el anterior punto podemos llegar a armar y ordenar la lista a partir de los datos y la dicotomía dadas, pero al tener que contar el número de cambios de signo en la lista puede darse el caso en el que, como hay $D+2$ datos, sea posible que tengamos el caso en el que la hipótesis deba tener $D+1$ cambios de signo, lo que nos diría que el polinomio tiene $D+1$ raíces gracias al teorema de Bolzano:\n",
        " \n",
        ">Si una función $f(x)$ está definida y es continua en un intervalo cerrado $[a, b]$ y toma valores de distinto signo en los extremos a y b, entonces existe al menos un punto c del intervalo abierto (a, b) en el que se anula la función.  \n",
        " \n",
        "Por lo que, debido a cómo está construido $\\mathcal{H}$, es imposible que alguna de las funciones hipótesis tenga $D+1$ raíces.\n"
      ]
    },
    {
      "cell_type": "markdown",
      "metadata": {
        "id": "MkADcgHn83hI"
      },
      "source": [
        "\n",
        "#**7. Problema 2.20 (Incompleto)**\n",
        "Hay un número de cotas de la generalización del error $\\epsilon$, todo ello con una probabilidad al menos $1-\\delta$.\n",
        "\n",
        "**a.** Cota VC original:\n",
        "$$\\epsilon\\leq\\sqrt{\\frac{8}{N}\\ln{\\frac{4m_{\\mathcal{H}}(2N)}{\\delta}}}.$$\n",
        "\n",
        "**b.** Rademacher Penalty Bound:\n",
        "$$\\epsilon\\leq\\sqrt{\\frac{2\\ln({2Nm_{\\mathcal{H}}(N)})}{N}}+\\sqrt{\\frac{2}{N}\\ln{\\frac{1}{\\delta}}}+\\frac{1}{N}.$$\n",
        "\n",
        "**c.** Parrondo y Van den Broek:\n",
        "$$\\epsilon\\leq\\sqrt{\\frac{1}{N}\\left(2\\epsilon+\\ln{\\frac{6m_{\\mathcal{H}}(2N)}{\\delta}}\\right)}$$\n",
        "\n",
        "**d.** Devroye:\n",
        "$$\\epsilon\\leq\\sqrt{\\frac{1}{2N}\\left( 4\\epsilon(1+\\epsilon) +  \\ln{\\frac{4m_{\\mathcal{H}}(N^2)}{\\delta}})\\right)}$$\n",
        "\n",
        "Ver que **c.** y **d.** son cotas implícitas en $\\epsilon$. Fijar $d_{VC}=50$ Y $\\delta=0.05$ y graficar estas cotas como función de $N$. ¿Cuál es la mejor?"
      ]
    },
    {
      "cell_type": "code",
      "metadata": {
        "colab": {
          "base_uri": "https://localhost:8080/",
          "height": 283
        },
        "id": "IlM0O1FFcMeC",
        "outputId": "413a50ae-979b-4824-d83e-0801c42d3faf"
      },
      "source": [
        "import matplotlib.pyplot as plt\n",
        "\n",
        "#Asumimos que la función de crecimiento es N^(d_VC)+1\n",
        "def cotaVC(N,dVC,d):\n",
        "  return np.sqrt(8/N*np.log(4*((2*N)**dVC+1)/d))\n",
        "def cotaRPB(N,dVC,d):\n",
        "  return np.sqrt((2*np.log(2*N*(N**dVC+1)))/N)+np.sqrt(2/N*np.log(1/d))+1/N\n",
        "\n",
        "dVC=50\n",
        "d=0.05\n",
        "\n",
        "x = np.arange(1, 10000)*1.0\n",
        "y1 = []\n",
        "y2 = []\n",
        "for N in x:\n",
        "    y1.append(cotaVC(N, dVC, d))\n",
        "    y2.append(cotaRPB(N, dVC, d))\n",
        "\n",
        "plt.plot(x, y1, color='red', label='Cota VC')\n",
        "plt.plot(x, y2, color='green', label='Cota Rademacher Penalty')\n",
        "plt.legend()"
      ],
      "execution_count": 11,
      "outputs": [
        {
          "output_type": "execute_result",
          "data": {
            "text/plain": [
              "<matplotlib.legend.Legend at 0x7f92f31de050>"
            ]
          },
          "metadata": {
            "tags": []
          },
          "execution_count": 11
        },
        {
          "output_type": "display_data",
          "data": {
            "image/png": "[encoded data removed]",
            "text/plain": [
              "<Figure size 432x288 with 1 Axes>"
            ]
          },
          "metadata": {
            "tags": [],
            "needs_background": "light"
          }
        }
      ]
    },
    {
      "cell_type": "code",
      "metadata": {
        "id": "kQqpkr6hgpfZ"
      },
      "source": [
        ""
      ],
      "execution_count": null,
      "outputs": []
    }
  ]
}